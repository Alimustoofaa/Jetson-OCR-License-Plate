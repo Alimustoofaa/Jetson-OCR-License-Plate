{
 "metadata": {
  "language_info": {
   "codemirror_mode": {
    "name": "ipython",
    "version": 3
   },
   "file_extension": ".py",
   "mimetype": "text/x-python",
   "name": "python",
   "nbconvert_exporter": "python",
   "pygments_lexer": "ipython3",
   "version": "3.6.9"
  },
  "orig_nbformat": 4,
  "kernelspec": {
   "name": "python3",
   "display_name": "Python 3.6.9 64-bit"
  },
  "interpreter": {
   "hash": "31f2aee4e71d21fbe5cf8b01ff0e069b9275f58929596ceb00d14d90e3e16cd6"
  }
 },
 "nbformat": 4,
 "nbformat_minor": 2,
 "cells": [
  {
   "cell_type": "code",
   "execution_count": 2,
   "metadata": {},
   "outputs": [],
   "source": [
    "\n",
    "\n",
    "'''\n",
    "@author     : Ali Mustofa HALOTEC\n",
    "@module     : OCR License Plate Indonesia\n",
    "@Created on : 7 Agust 2021\n",
    "'''\n",
    "\n",
    "import sys\n",
    "import cv2\n",
    "import torch\n",
    "import easyocr\n",
    "from PIL import Image, ImageDraw\n",
    "\n",
    "sys.path.append(\"..\")\n",
    "from src.schema.config_ocr import ConfigOcr\n",
    "from src.app import LicensePlateDetection\n",
    "from src.app import OpticalCharacterRecognition\n",
    "from config import KODE_WILAYAH_JSON\n"
   ]
  },
  {
   "cell_type": "code",
   "execution_count": 3,
   "metadata": {},
   "outputs": [],
   "source": [
    "class OpticalCharacterRecognition:\n",
    "    '''\n",
    "    Load model library Ocr\n",
    "    '''\n",
    "    def __init__(self):\n",
    "        self.device = True if torch.cuda.is_available() else False\n",
    "        self.list_langs = ['en', 'id', 'la']\n",
    "        self.recog_network = 'latin_g2'\n",
    "        self.reader = easyocr.Reader(self.list_langs, gpu=self.device, recog_network=self.recog_network)\n",
    "\n",
    "    def detect_char(self, image):\n",
    "        '''\n",
    "        Detection character in image\n",
    "        Args:\n",
    "            image(np.array): image for detect character\n",
    "        Retrun:\n",
    "            result(list): [[x_min, x_max, y_min, y_max]], []\n",
    "        '''\n",
    "        return self.reader.detect(image)\n",
    "\n",
    "    def ocr_image(self, image, config):\n",
    "        '''\n",
    "        Read text in image with library easy ocr\n",
    "        with configuration in param config\n",
    "        Args:\n",
    "            image(np.array): image for ocr\n",
    "            config(schema.config_ocr): configuration library ocr\n",
    "        Retrun\n",
    "        '''\n",
    "        results = self.reader.readtext(\n",
    "            image,\n",
    "            detail          = config.detail,\n",
    "            decoder         = config.decoder,\n",
    "            beamWidth       = config.beam_width,\n",
    "            batch_size      = config.batch_size,\n",
    "            workers         = config.workers,\n",
    "            allowlist       = config.allow_list,\n",
    "            blocklist       = config.blocklist,\n",
    "            paragraph       = config.paragraph,\n",
    "            min_size        = config.min_size,\n",
    "            rotation_info   = config.rotation_info,\n",
    "            # Contrast\n",
    "            contrast_ths    = config.contrast_ths,\n",
    "            adjust_contrast = config.adjust_contrast,\n",
    "            # Text detection\n",
    "            text_threshold  = config.text_threshold + 0.1 if self.device else config.text_threshold,\n",
    "            low_text        = config.low_text,\n",
    "            link_threshold  = config.link_threshold,\n",
    "            canvas_size     = config.canvas_size,\n",
    "            mag_ratio       = config.mag_ratio\n",
    "        )\n",
    "        return results\n",
    "    \n",
    "    def draw_boxes(self, image, bounds, color='yellow', width=2):\n",
    "        text = []\n",
    "        confidence = []\n",
    "        image = Image.fromarray(cv2.cvtColor(image,cv2.COLOR_BGR2RGB))\n",
    "        draw = ImageDraw.Draw(image)\n",
    "\n",
    "        for bound in bounds:\n",
    "            if bound[2] > 0.0:\n",
    "                confidence.append(bound[2])\n",
    "                text.append(bound[1])\n",
    "                p0, p1, p2, p3 = bound[0]\n",
    "                draw.line([*p0, *p1, *p2, *p3, *p0], fill=color, width=width)\n",
    "        \n",
    "        # Calculate AVG confidence level\n",
    "        avgConf = sum(confidence)/len(confidence)\n",
    "        return image, text, avgConf"
   ]
  },
  {
   "cell_type": "code",
   "execution_count": 10,
   "metadata": {},
   "outputs": [
    {
     "output_type": "stream",
     "name": "stdout",
     "text": [
      "Load model_license_plate_iso_code.pt detection model.\n",
      "Using cache found in /home/ocr/.cache/torch/hub/ultralytics_yolov5_master\n",
      "\n",
      "                 from  n    params  module                                  arguments                     \n",
      "  0                -1  1      3520  models.common.Focus                     [3, 32, 3]                    \n",
      "  1                -1  1     18560  models.common.Conv                      [32, 64, 3, 2]                \n",
      "  2                -1  1     19904  models.common.BottleneckCSP             [64, 64, 1]                   \n",
      "  3                -1  1     73984  models.common.Conv                      [64, 128, 3, 2]               \n",
      "  4                -1  1    161152  models.common.BottleneckCSP             [128, 128, 3]                 \n",
      "  5                -1  1    295424  models.common.Conv                      [128, 256, 3, 2]              \n",
      "  6                -1  1    641792  models.common.BottleneckCSP             [256, 256, 3]                 \n",
      "  7                -1  1   1180672  models.common.Conv                      [256, 512, 3, 2]              \n",
      "  8                -1  1    656896  models.common.SPP                       [512, 512, [5, 9, 13]]        \n",
      "  9                -1  1   1248768  models.common.BottleneckCSP             [512, 512, 1, False]          \n",
      " 10                -1  1    131584  models.common.Conv                      [512, 256, 1, 1]              \n",
      " 11                -1  1         0  torch.nn.modules.upsampling.Upsample    [None, 2, 'nearest']          \n",
      " 12           [-1, 6]  1         0  models.common.Concat                    [1]                           \n",
      " 13                -1  1    378624  models.common.BottleneckCSP             [512, 256, 1, False]          \n",
      " 14                -1  1     33024  models.common.Conv                      [256, 128, 1, 1]              \n",
      " 15                -1  1         0  torch.nn.modules.upsampling.Upsample    [None, 2, 'nearest']          \n",
      " 16           [-1, 4]  1         0  models.common.Concat                    [1]                           \n",
      " 17                -1  1     95104  models.common.BottleneckCSP             [256, 128, 1, False]          \n",
      " 18                -1  1    147712  models.common.Conv                      [128, 128, 3, 2]              \n",
      " 19          [-1, 14]  1         0  models.common.Concat                    [1]                           \n",
      " 20                -1  1    313088  models.common.BottleneckCSP             [256, 256, 1, False]          \n",
      " 21                -1  1    590336  models.common.Conv                      [256, 256, 3, 2]              \n",
      " 22          [-1, 10]  1         0  models.common.Concat                    [1]                           \n",
      " 23                -1  1   1248768  models.common.BottleneckCSP             [512, 512, 1, False]          \n",
      " 24      [17, 20, 23]  1     16182  models.yolo.Detect                      [1, [[10, 13, 16, 30, 33, 23], [30, 61, 62, 45, 59, 119], [116, 90, 156, 198, 373, 326]], [128, 256, 512]]\n",
      "Model Summary: 283 layers, 7255094 parameters, 7255094 gradients\n",
      "\n",
      "Adding autoShape... \n",
      "YOLOv5 🚀 2021-4-24 torch 1.8.0a0+37c1f4a CUDA:0 (NVIDIA Tegra X1, 3964.07421875MB)\n",
      "\n"
     ]
    }
   ],
   "source": [
    "model   = LicensePlateDetection()\n",
    "ocr     = OpticalCharacterRecognition()"
   ]
  },
  {
   "cell_type": "code",
   "execution_count": 6,
   "metadata": {},
   "outputs": [],
   "source": [
    "def detection(image):\n",
    "    '''\n",
    "    Detection license plate\n",
    "    and filter clasess, confidence\n",
    "    Args:\n",
    "        image(np.array): image for cropped\n",
    "    return:\n",
    "        result(tuple): (\n",
    "                image_cropped(np.array): image croped,\n",
    "                confidence(float): confidence level,\n",
    "                bbox(list): bbox detection [x_min, y_min, x_max, y_max]\n",
    "            )\n",
    "\n",
    "    '''\n",
    "    result_detection = model.prediction(image)\n",
    "    license_plate = model.filter_and_crop(\n",
    "        img=image, results=result_detection, min_confidence=0.0\n",
    "    )\n",
    "    if len(license_plate[0]) >=1 and license_plate[1] > 0 and len(license_plate[2]) == 4:\n",
    "        print(f'Got license plate detection confidence : {round(license_plate[1], 2)} %')\n",
    "    else: print(f'License plate not found')\n",
    "    return license_plate\n",
    "\n",
    "def resize(image, height_percent=180, width_percent=180):\n",
    "\t'''\n",
    "\tresize image by percent\n",
    "    Args:\n",
    "        image(np.array): image\n",
    "        height_percent(int): percentage height\n",
    "        width_percent(int): percentage width\n",
    "    Return:\n",
    "        image(np.array): image resized\n",
    "\t'''\n",
    "\theight = int(image.shape[0] * height_percent / 100)\n",
    "\twidth = int(image.shape[1] * width_percent / 100)\n",
    "\tdim = (width, height)\n",
    "\tnew_img = cv2.resize(image, dim, interpolation = cv2.INTER_AREA)\n",
    "\tprint(f'Resize image to : {new_img.shape}')\n",
    "\treturn new_img\n",
    "\n",
    "def detect_char(image, output=False):\n",
    "    '''\n",
    "    Detection charcters text in image\n",
    "    Args:\n",
    "        image(np.array): image.\n",
    "        output(boolean): output detection default (output=False)\n",
    "    Return:\n",
    "        result(boolean|list): result detection character\n",
    "    '''\n",
    "    detected_char = ocr.detect_char(image)\n",
    "    if detected_char[0]:\n",
    "        print(f'Found text in image : {\" \".join([str(i) for i in detected_char[0]])}')\n",
    "    else:\n",
    "        print(f'Not found text in image')\n",
    "\n",
    "    if output:\n",
    "        results = detected_char[0][0]\n",
    "    else: \n",
    "        if detected_char[0]: results = True\n",
    "        else: results = False\n",
    "    return results\n",
    "\n",
    "def read_text(image, position_text='horizontal', clasess_name='license_plate'):\n",
    "    '''\n",
    "    Set methods and value config ocr\n",
    "    methods view schema/config_ocr.py\n",
    "    Args:\n",
    "        image(np.array): image for read text\n",
    "        position_text(str): position text vertical/horizontal (default=vertical)\n",
    "        clasess_name(str): clasess name read text (default=license_plate)\n",
    "    Retrun:\n",
    "        result(list): [([[28, 32], [52, 32], [52, 64], [28, 64]], 'text', 0.9846626687831872)]\n",
    "    '''\n",
    "    if position_text == 'horizontal':\n",
    "        config = ConfigOcr(\n",
    "            beam_width      = 8,\n",
    "            batch_size      = 10,\n",
    "            text_threshold  = 0.5,\n",
    "            link_threshold  = 0.9,\n",
    "            low_text        = 0.4,\n",
    "            slope_ths       = 0.9,\n",
    "            mag_ratio \t\t= 1,\n",
    "            add_margin\t\t= 0.5,\n",
    "            width_ths       = 0.5\n",
    "        )\n",
    "    elif position_text == 'vertical':\n",
    "        config = ConfigOcr(\n",
    "            batch_size  \t= 10,\n",
    "            text_threshold \t= 0.2,\n",
    "            link_threshold \t= 0.9,\n",
    "            low_text \t\t= 0.4,\n",
    "            add_margin\t\t= 0\n",
    "        )\n",
    "\n",
    "    results = ocr.ocr_image(image=image, config=config)\n",
    "    if position_text == 'horizontal': results.sort(reverse=False)\n",
    "    else : results = results\n",
    "    print(f'Ocr {clasess_name} : {\" \".join([i[1] for i in results])}')\n",
    "    return results\n"
   ]
  },
  {
   "cell_type": "code",
   "execution_count": 118,
   "metadata": {},
   "outputs": [
    {
     "output_type": "stream",
     "name": "stdout",
     "text": [
      "Got license plate detection confidence : 0.87 %\n"
     ]
    }
   ],
   "source": [
    "image = cv2.imread('../assets/img/3.jpeg')\n",
    "try:\n",
    "    license_plate = detection(image)\n",
    "except:\n",
    "    license_plate = (np.array([], dtype=np.uint8), 0, list())"
   ]
  },
  {
   "cell_type": "code",
   "execution_count": 119,
   "metadata": {},
   "outputs": [
    {
     "output_type": "execute_result",
     "data": {
      "text/plain": [
       "<PIL.Image.Image image mode=RGB size=144x67 at 0x7EBCDF0F60>"
      ],
      "image/png": "[encoded data removed]"
     },
     "metadata": {},
     "execution_count": 119
    }
   ],
   "source": [
    "# Get image crop (license plate) and get bbox (license plate)\n",
    "if len(license_plate[0]) >=1 and\\\n",
    "    license_plate[1] > 0 and\\\n",
    "    len(license_plate[2]) == 4:\n",
    "    image_license_plate, bbox_license_plate = license_plate[0], license_plate[2]\n",
    "else:\n",
    "    # Get manual crop container characteristic with detect char and filter bbox character\\\n",
    "    image_license_plate, bbox_license_plate = image, None\n",
    "\n",
    "Image.fromarray(cv2.cvtColor(image_license_plate, cv2.COLOR_BGR2RGB))\n"
   ]
  },
  {
   "cell_type": "code",
   "execution_count": 120,
   "metadata": {},
   "outputs": [
    {
     "output_type": "stream",
     "name": "stdout",
     "text": [
      "Found text in image : [50, 132, 10, 42]\n",
      "Ocr license_plate : B 787  WG\n"
     ]
    }
   ],
   "source": [
    "def process_license_plate(image_detection, bbox):\n",
    "    if bbox:\n",
    "        # Resize if width > 120\n",
    "        image_crop = resize(image_detection.copy(), 200, 205) if image_detection.shape[1] < 120 else image_detection\n",
    "        # Detect character in text\n",
    "        detected_char = detect_char(image_crop, output=False)\n",
    "        # Get image if character not found in image\n",
    "        image_crop = resize(image_detection, 90, 100) if not detected_char else image_crop\n",
    "    else:\n",
    "        image_crop = resize(image_detection, 90, 100)\n",
    "    # Process OCR\n",
    "    results_ocr = read_text(image_crop, position_text='horizontal', clasess_name='license_plate')\n",
    "    \n",
    "    return results_ocr\n",
    "\n",
    "results_ocr = process_license_plate(image_license_plate, bbox_license_plate)\n",
    "\n"
   ]
  },
  {
   "source": [
    "# Text Processing"
   ],
   "cell_type": "markdown",
   "metadata": {}
  },
  {
   "cell_type": "code",
   "execution_count": 121,
   "metadata": {},
   "outputs": [],
   "source": [
    "def filter_text_conf(text_conf):\n",
    "    '''\n",
    "    Remove space in list text_conf and add create new list\n",
    "    Args:\n",
    "        text_conf(list): text condidence result ocr -> [['8 1549 RFS', 0.7276318370729566]]\n",
    "    Return:\n",
    "        new_text_conf(list): new text confidence -> [['8', 0.7276318370729566], ['1549', 0.7276318370729566], ['RFS', 0.7276318370729566]]\n",
    "    '''\n",
    "    new_text_conf = list()\n",
    "    for text, conf in text_conf:\n",
    "        remove_space = text.split(' ')\n",
    "        for word in remove_space:\n",
    "            if word.isalnum():\n",
    "                new_text_conf.append([word, conf])\n",
    "    return new_text_conf"
   ]
  },
  {
   "cell_type": "code",
   "execution_count": 122,
   "metadata": {},
   "outputs": [
    {
     "output_type": "stream",
     "name": "stdout",
     "text": [
      "[['B', 0.9783185334305387], ['787', 0.999996283423093], ['WG', 0.8916831508279444]]\n"
     ]
    }
   ],
   "source": [
    "text_conf_list  = [[i[1], i[2]] for i in results_ocr]\n",
    "filtered_text = filter_text_conf(text_conf_list)\n",
    "print(filtered_text)"
   ]
  },
  {
   "cell_type": "code",
   "execution_count": 123,
   "metadata": {},
   "outputs": [],
   "source": [
    "from similarity.weighted_levenshtein import WeightedLevenshtein\n",
    "from similarity.weighted_levenshtein import CharacterSubstitutionInterface\n",
    "\n",
    "'''\n",
    "Add cost substituting word in compnames and result ocr\n",
    "'''\n",
    "class AreaCodeCharacterSubstitution(CharacterSubstitutionInterface):\n",
    "\tdef cost(self, char_true, char_false):\n",
    "\t\t# print(c0)\n",
    "\t\tif char_true == 'B' and char_false == '8': return 0.5\n",
    "\t\treturn 1.0\n",
    "weighted_levenshtein_area_code = WeightedLevenshtein(AreaCodeCharacterSubstitution())"
   ]
  },
  {
   "cell_type": "code",
   "execution_count": 124,
   "metadata": {},
   "outputs": [
    {
     "output_type": "execute_result",
     "data": {
      "text/plain": [
       "{'area_code': ['B', 0.9783185334305387]}"
      ]
     },
     "metadata": {},
     "execution_count": 124
    }
   ],
   "source": [
    "# get area code\n",
    "\n",
    "# filtered_text = [['8', 0.7276318370729566], ['15A9', 0.7276318370729566], ['RF5', 0.7276318370729566]]\n",
    "\n",
    "license_plate_dict = dict()\n",
    "\n",
    "text_list   = [text for text,_ in filtered_text]\n",
    "conf_list   = [conf for _,conf in filtered_text]\n",
    "index       = [i for i,x in enumerate(text_list) if len(x) <= 2 and not x.isnumeric()]\n",
    "if index:\n",
    "    for idx in index:\n",
    "        if text_list[idx] in KODE_WILAYAH_JSON:\n",
    "            license_plate_dict.update({'area_code': [text_list[idx], conf_list[idx]]})\n",
    "            break\n",
    "else: get_area_code_more()\n",
    "\n",
    "def get_area_code_more():\n",
    "    '''\n",
    "    filtered text with minimum pattren area code\n",
    "    Get Area Code with algoritm weighted_levenshtein\n",
    "    and update confidence (conf+1)/2\n",
    "    '''\n",
    "    min_ratio = 10\n",
    "    temp = str()\n",
    "    conf_i = float()\n",
    "\n",
    "    for text, conf in filtered_text:\n",
    "        if len(text) in range(1, 4):\n",
    "            for area in KODE_WILAYAH_JSON:\n",
    "                ratio = weighted_levenshtein_area_code.distance(area, text)\n",
    "                if ratio < min_ratio:\n",
    "                    min_ratio = ratio\n",
    "                    temp = area\n",
    "                    conf_i = (conf+1)/2\n",
    "                else:\n",
    "                    min_ratio = min_ratio\n",
    "                    temp = temp\n",
    "                    conf_i = conf_i\n",
    "    if min_ratio < 1.5 and temp in KODE_WILAYAH_JSON:\n",
    "        license_plate_dict.update({'area_code': [temp, conf_i]})\n",
    "    else:\n",
    "        license_plate_dict.update({'area_code': ['', 0]})\n",
    "license_plate_dict"
   ]
  },
  {
   "cell_type": "code",
   "execution_count": 125,
   "metadata": {},
   "outputs": [
    {
     "output_type": "execute_result",
     "data": {
      "text/plain": [
       "{'area_code': ['B', 0.9783185334305387],\n",
       " 'license_number': ['787', 0.999996283423093]}"
      ]
     },
     "metadata": {},
     "execution_count": 125
    }
   ],
   "source": [
    "# Get number license plate\n",
    "text_list   = [text for text,_ in filtered_text]\n",
    "conf_list   = [conf for _,conf in filtered_text]\n",
    "index       = [i for i,x in enumerate(text_list) if len(x) == 4 and  x.isnumeric()]\n",
    "if index:\n",
    "    for idx in index:\n",
    "        license_plate_dict.update({'license_number': [text_list[idx], conf_list[idx]]})\n",
    "        break\n",
    "else:\n",
    "    for text, conf in filtered_text:\n",
    "        if len(text) in range(2, 5) and not text.isalpha() and text[0] != '0':\n",
    "            if text.isnumeric():\n",
    "                license_plate_dict.update({'license_number': [text, conf]})\n",
    "                break\n",
    "            else:\n",
    "                text, conf = replace_abjad2number(text, conf)\n",
    "                license_plate_dict.update({'license_number': [text, conf]})\n",
    "                break\n",
    "        else: license_plate_dict.update({'license_number': ['', 0]})\n",
    "license_plate_dict"
   ]
  },
  {
   "cell_type": "code",
   "execution_count": 112,
   "metadata": {},
   "outputs": [],
   "source": [
    "REPLACE_ABJAD2NUMBER = {\n",
    "    'A': '4',\n",
    "    'O': '0'\n",
    "}\n",
    "def replace_abjad2number(text, conf):\n",
    "\t\tlicense_plate = text\n",
    "\t\tconfidence = conf\n",
    "\t\tfor i in range(len(license_plate)):\n",
    "\t\t\tif not license_plate[i].isnumeric() and license_plate[i] in REPLACE_ABJAD2NUMBER:\n",
    "\t\t\t\treplaced = REPLACE_ABJAD2NUMBER[str(license_plate[i])]\n",
    "\t\t\t\tlicense_plate = license_plate.replace(license_plate[i], replaced)\n",
    "\t\t\t\tconfidence = (conf+1)/2\n",
    "\t\treturn license_plate, confidence"
   ]
  },
  {
   "cell_type": "code",
   "execution_count": 126,
   "metadata": {},
   "outputs": [
    {
     "output_type": "execute_result",
     "data": {
      "text/plain": [
       "{'area_code': ['B', 0.9783185334305387],\n",
       " 'license_number': ['787', 0.999996283423093],\n",
       " 'unique_are': ['WG', 0.8916831508279444]}"
      ]
     },
     "metadata": {},
     "execution_count": 126
    }
   ],
   "source": [
    "# Get unique area\n",
    "text_list   = [text for text,_ in filtered_text]\n",
    "conf_list   = [conf for _,conf in filtered_text]\n",
    "index       = [i for i,x in enumerate(text_list) if len(x) == 3 and x.isalpha()]\n",
    "if index:\n",
    "    for idx in index:\n",
    "        license_plate_dict.update({'unique_are': [text_list[idx], conf_list[idx]]})\n",
    "        break\n",
    "else:\n",
    "    for text, conf in filtered_text:\n",
    "        if len(text) in range(2, 5) and not text.isnumeric() and text not in license_plate_dict['area_code'][0]:\n",
    "            if text.isalpha():\n",
    "                text = text[:3] if len(text) >3 else text\n",
    "                license_plate_dict.update({'unique_are': [text, conf]})\n",
    "                break\n",
    "            else:\n",
    "                text, conf = replace_number2abjad(text, conf)\n",
    "                license_plate_dict.update({'unique_are': [text, conf]})\n",
    "        else: license_plate_dict.update({'unique_are': ['', 0]})\n",
    "license_plate_dict"
   ]
  },
  {
   "cell_type": "code",
   "execution_count": 94,
   "metadata": {},
   "outputs": [],
   "source": [
    "REPLACE_NUMBER2ABJAD= {\n",
    "    '5': 'S',\n",
    "    '0': 'O'\n",
    "}\n",
    "def replace_number2abjad(text, conf):\n",
    "\t\tlicense_plate = text\n",
    "\t\tconfidence = conf\n",
    "\t\tfor i in range(len(license_plate)):\n",
    "\t\t\tif license_plate[i].isnumeric() and license_plate[i] in REPLACE_NUMBER2ABJAD:\n",
    "\t\t\t\treplaced = REPLACE_NUMBER2ABJAD[str(license_plate[i])]\n",
    "\t\t\t\tlicense_plate = license_plate.replace(license_plate[i], replaced)\n",
    "\t\t\t\tconfidence = (conf+1)/2\n",
    "\t\treturn license_plate, confidence"
   ]
  },
  {
   "cell_type": "code",
   "execution_count": 130,
   "metadata": {},
   "outputs": [
    {
     "output_type": "execute_result",
     "data": {
      "text/plain": [
       "0.96"
      ]
     },
     "metadata": {},
     "execution_count": 130
    }
   ],
   "source": [
    "text_license_plate = f\"{license_plate_dict['area_code'][0]} {license_plate_dict['license_number'][0]} {license_plate_dict['unique_are'][0]}\"\n",
    "conf_license_plate = round((license_plate_dict['area_code'][1]+license_plate_dict['license_number'][1]+license_plate_dict['unique_are'][1])/len(license_plate_dict), 2)\n",
    "print(f'License Plate : {text_license_plate}')\n",
    "print(f'Confidence : {conf_license_plate}')"
   ]
  }
 ]
}