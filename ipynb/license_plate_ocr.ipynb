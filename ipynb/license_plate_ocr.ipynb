{
 "metadata": {
  "language_info": {
   "codemirror_mode": {
    "name": "ipython",
    "version": 3
   },
   "file_extension": ".py",
   "mimetype": "text/x-python",
   "name": "python",
   "nbconvert_exporter": "python",
   "pygments_lexer": "ipython3",
   "version": "3.6.9"
  },
  "orig_nbformat": 4,
  "kernelspec": {
   "name": "python3",
   "display_name": "Python 3.6.9 64-bit"
  },
  "interpreter": {
   "hash": "31f2aee4e71d21fbe5cf8b01ff0e069b9275f58929596ceb00d14d90e3e16cd6"
  }
 },
 "nbformat": 4,
 "nbformat_minor": 2,
 "cells": [
  {
   "cell_type": "code",
   "execution_count": 6,
   "metadata": {},
   "outputs": [],
   "source": [
    "\n",
    "\n",
    "'''\n",
    "@author     : Ali Mustofa HALOTEC\n",
    "@module     : OCR Container Nufree_list (list, default=None) - see format from output of detect methodmber\n",
    "@Created on : 7 Agust 2021\n",
    "'''\n",
    "\n",
    "import sys\n",
    "import cv2\n",
    "import torch\n",
    "import easyocr\n",
    "from PIL import Image, ImageDraw\n",
    "\n",
    "sys.path.append(\"..\")\n",
    "from src.schema.config_ocr import ConfigOcr\n",
    "from src.app import LicensePlateDetection\n",
    "\n",
    "from config import KODE_WILAYAH_JSON\n"
   ]
  },
  {
   "cell_type": "code",
   "execution_count": 130,
   "metadata": {},
   "outputs": [],
   "source": [
    "class OpticalCharacterRecognition:\n",
    "    '''\n",
    "    Load model library Ocr\n",
    "    '''\n",
    "    def __init__(self):\n",
    "        self.device = True if torch.cuda.is_available() else False\n",
    "        self.list_langs = ['en', 'id', 'la']\n",
    "        self.recog_network = 'latin_g2'\n",
    "        self.reader = easyocr.Reader(self.list_langs, gpu=self.device, recog_network=self.recog_network)\n",
    "\n",
    "    def detect_char(self, image):\n",
    "        '''\n",
    "        Detection character in image\n",
    "        Args:\n",
    "            image(np.array): image for detect character\n",
    "        Retrun:\n",
    "            result(list): [[x_min, x_max, y_min, y_max]], []\n",
    "        '''\n",
    "        return self.reader.detect(image)\n",
    "\n",
    "    def ocr_image(self, image, config):\n",
    "        '''\n",
    "        Read text in image with library easy ocr\n",
    "        with configuration in param config\n",
    "        Args:\n",
    "            image(np.array): image for ocr\n",
    "            config(schema.config_ocr): configuration library ocr\n",
    "        Retrun\n",
    "        '''\n",
    "        results = self.reader.readtext(\n",
    "            image,\n",
    "            detail          = config.detail,\n",
    "            decoder         = config.decoder,\n",
    "            beamWidth       = config.beam_width,\n",
    "            batch_size      = config.batch_size,\n",
    "            workers         = config.workers,\n",
    "            allowlist       = config.allow_list,\n",
    "            blocklist       = config.blocklist,\n",
    "            paragraph       = config.paragraph,\n",
    "            min_size        = config.min_size,\n",
    "            rotation_info   = config.rotation_info,\n",
    "            # Contrast\n",
    "            contrast_ths    = config.contrast_ths,\n",
    "            adjust_contrast = config.adjust_contrast,\n",
    "            # Text detection\n",
    "            text_threshold  = config.text_threshold + 0.1 if self.device else config.text_threshold,\n",
    "            low_text        = config.low_text,\n",
    "            link_threshold  = config.link_threshold,\n",
    "            canvas_size     = config.canvas_size,\n",
    "            mag_ratio       = config.mag_ratio\n",
    "        )\n",
    "        return results\n",
    "    \n",
    "    def draw_boxes(self, image, bounds, color='yellow', width=2):\n",
    "        text = []\n",
    "        confidence = []\n",
    "        image = Image.fromarray(cv2.cvtColor(image,cv2.COLOR_BGR2RGB))\n",
    "        draw = ImageDraw.Draw(image)\n",
    "\n",
    "        for bound in bounds:\n",
    "            if bound[2] > 0.0:\n",
    "                confidence.append(bound[2])\n",
    "                text.append(bound[1])\n",
    "                p0, p1, p2, p3 = bound[0]\n",
    "                draw.line([*p0, *p1, *p2, *p3, *p0], fill=color, width=width)\n",
    "        \n",
    "        # Calculate AVG confidence level\n",
    "        avgConf = sum(confidence)/len(confidence)\n",
    "        return image, text, avgConf"
   ]
  },
  {
   "cell_type": "code",
   "execution_count": 131,
   "metadata": {},
   "outputs": [
    {
     "output_type": "stream",
     "name": "stdout",
     "text": [
      "Load model_license_plate_iso_code.pt detection model.\n",
      "Using cache found in /home/ocr/.cache/torch/hub/ultralytics_yolov5_master\n",
      "\n",
      "                 from  n    params  module                                  arguments                     \n",
      "  0                -1  1      3520  models.common.Focus                     [3, 32, 3]                    \n",
      "  1                -1  1     18560  models.common.Conv                      [32, 64, 3, 2]                \n",
      "  2                -1  1     19904  models.common.BottleneckCSP             [64, 64, 1]                   \n",
      "  3                -1  1     73984  models.common.Conv                      [64, 128, 3, 2]               \n",
      "  4                -1  1    161152  models.common.BottleneckCSP             [128, 128, 3]                 \n",
      "  5                -1  1    295424  models.common.Conv                      [128, 256, 3, 2]              \n",
      "  6                -1  1    641792  models.common.BottleneckCSP             [256, 256, 3]                 \n",
      "  7                -1  1   1180672  models.common.Conv                      [256, 512, 3, 2]              \n",
      "  8                -1  1    656896  models.common.SPP                       [512, 512, [5, 9, 13]]        \n",
      "  9                -1  1   1248768  models.common.BottleneckCSP             [512, 512, 1, False]          \n",
      " 10                -1  1    131584  models.common.Conv                      [512, 256, 1, 1]              \n",
      " 11                -1  1         0  torch.nn.modules.upsampling.Upsample    [None, 2, 'nearest']          \n",
      " 12           [-1, 6]  1         0  models.common.Concat                    [1]                           \n",
      " 13                -1  1    378624  models.common.BottleneckCSP             [512, 256, 1, False]          \n",
      " 14                -1  1     33024  models.common.Conv                      [256, 128, 1, 1]              \n",
      " 15                -1  1         0  torch.nn.modules.upsampling.Upsample    [None, 2, 'nearest']          \n",
      " 16           [-1, 4]  1         0  models.common.Concat                    [1]                           \n",
      " 17                -1  1     95104  models.common.BottleneckCSP             [256, 128, 1, False]          \n",
      " 18                -1  1    147712  models.common.Conv                      [128, 128, 3, 2]              \n",
      " 19          [-1, 14]  1         0  models.common.Concat                    [1]                           \n",
      " 20                -1  1    313088  models.common.BottleneckCSP             [256, 256, 1, False]          \n",
      " 21                -1  1    590336  models.common.Conv                      [256, 256, 3, 2]              \n",
      " 22          [-1, 10]  1         0  models.common.Concat                    [1]                           \n",
      " 23                -1  1   1248768  models.common.BottleneckCSP             [512, 512, 1, False]          \n",
      " 24      [17, 20, 23]  1     16182  models.yolo.Detect                      [1, [[10, 13, 16, 30, 33, 23], [30, 61, 62, 45, 59, 119], [116, 90, 156, 198, 373, 326]], [128, 256, 512]]\n",
      "Model Summary: 283 layers, 7255094 parameters, 7255094 gradients\n",
      "\n",
      "Adding autoShape... \n",
      "YOLOv5 🚀 2021-4-24 torch 1.8.0a0+37c1f4a CUDA:0 (NVIDIA Tegra X1, 3964.07421875MB)\n",
      "\n"
     ]
    }
   ],
   "source": [
    "model = LicensePlateDetection()\n",
    "ocr = OpticalCharacterRecognition()"
   ]
  },
  {
   "cell_type": "code",
   "execution_count": 132,
   "metadata": {},
   "outputs": [],
   "source": [
    "def detection(image):\n",
    "    '''\n",
    "    Detection license plate\n",
    "    and filter clasess, confidence\n",
    "    Args:\n",
    "        image(np.array): image for cropped\n",
    "    return:\n",
    "        result(tuple): (\n",
    "                image_cropped(np.array): image croped,\n",
    "                confidence(float): confidence level,\n",
    "                bbox(list): bbox detection [x_min, y_min, x_max, y_max]\n",
    "            )\n",
    "\n",
    "    '''\n",
    "    result_detection = model.prediction(image)\n",
    "    license_plate = model.filter_and_crop(\n",
    "        img=image, results=result_detection, min_confidence=0.0\n",
    "    )\n",
    "    if len(license_plate[0]) >=1 and license_plate[1] > 0 and len(license_plate[2]) == 4:\n",
    "        print(f'Got license plate detection confidence : {round(license_plate[1], 2)} %')\n",
    "    else: print(f'License plate not found')\n",
    "    return license_plate\n",
    "\n",
    "def resize(image, height_percent=180, width_percent=180):\n",
    "\t'''\n",
    "\tresize image by percent\n",
    "    Args:\n",
    "        image(np.array): image\n",
    "        height_percent(int): percentage height\n",
    "        width_percent(int): percentage width\n",
    "    Return:\n",
    "        image(np.array): image resized\n",
    "\t'''\n",
    "\theight = int(image.shape[0] * height_percent / 100)\n",
    "\twidth = int(image.shape[1] * width_percent / 100)\n",
    "\tdim = (width, height)\n",
    "\tnew_img = cv2.resize(image, dim, interpolation = cv2.INTER_AREA)\n",
    "\tprint(f'Resize image to : {new_img.shape}')\n",
    "\treturn new_img\n",
    "\n",
    "def detect_char(image, output=False):\n",
    "    '''\n",
    "    Detection charcters text in image\n",
    "    Args:\n",
    "        image(np.array): image.\n",
    "        output(boolean): output detection default (output=False)\n",
    "    Return:\n",
    "        result(boolean|list): result detection character\n",
    "    '''\n",
    "    detected_char = ocr.detect_char(image)\n",
    "    if detected_char[0]:\n",
    "        print(f'Found text in image : {\" \".join([str(i) for i in detected_char[0]])}')\n",
    "    else:\n",
    "        print(f'Not found text in image')\n",
    "\n",
    "    if output:\n",
    "        results = detected_char[0][0]\n",
    "    else: \n",
    "        if detected_char[0]: results = True\n",
    "        else: results = False\n",
    "    return results\n",
    "\n",
    "def read_text(image, position_text='horizontal', clasess_name='license_plate'):\n",
    "    '''\n",
    "    Set methods and value config ocr\n",
    "    methods view schema/config_ocr.py\n",
    "    Args:\n",
    "        image(np.array): image for read text\n",
    "        position_text(str): position text vertical/horizontal (default=vertical)\n",
    "        clasess_name(str): clasess name read text (default=license_plate)\n",
    "    Retrun:\n",
    "        result(list): [([[28, 32], [52, 32], [52, 64], [28, 64]], 'text', 0.9846626687831872)]\n",
    "    '''\n",
    "    if position_text == 'horizontal':\n",
    "        config = ConfigOcr(\n",
    "            beam_width      = 8,\n",
    "            batch_size      = 10,\n",
    "            text_threshold  = 0.5,\n",
    "            link_threshold  = 0.9,\n",
    "            low_text        = 0.4,\n",
    "            slope_ths       = 0.9,\n",
    "            mag_ratio \t\t= 1,\n",
    "            add_margin\t\t= 0.5,\n",
    "            width_ths       = 0.5\n",
    "        )\n",
    "    elif position_text == 'vertical':\n",
    "        config = ConfigOcr(\n",
    "            batch_size  \t= 10,\n",
    "            text_threshold \t= 0.2,\n",
    "            link_threshold \t= 0.9,\n",
    "            low_text \t\t= 0.4,\n",
    "            add_margin\t\t= 0\n",
    "        )\n",
    "\n",
    "    results = ocr.ocr_image(image=image, config=config)\n",
    "    if position_text == 'horizontal': results.sort(reverse=False)\n",
    "    else : results = results\n",
    "    print(f'Ocr {clasess_name} : {\" \".join([i[1] for i in results])}')\n",
    "    return results\n"
   ]
  },
  {
   "cell_type": "code",
   "execution_count": 133,
   "metadata": {},
   "outputs": [
    {
     "output_type": "stream",
     "name": "stdout",
     "text": [
      "Got license plate detection confidence : 0.9 %\n"
     ]
    }
   ],
   "source": [
    "image = cv2.imread('../assets/img/5.jpeg')\n",
    "try:\n",
    "    license_plate = detection(image)\n",
    "except:\n",
    "    license_plate = (np.array([], dtype=np.uint8), 0, list())"
   ]
  },
  {
   "cell_type": "code",
   "execution_count": 134,
   "metadata": {},
   "outputs": [],
   "source": [
    "# Get image crop (license plate) and get bbox (license plate)\n",
    "if len(license_plate[0]) >=1 and\\\n",
    "    license_plate[1] > 0 and\\\n",
    "    len(license_plate[2]) == 4:\n",
    "    image_license_plate, bbox_license_plate = license_plate[0], license_plate[2]\n",
    "else:\n",
    "    # Get manual crop container characteristic with detect char and filter bbox character\\\n",
    "    image_license_plate, bbox_license_plate = image, None\n"
   ]
  },
  {
   "cell_type": "code",
   "execution_count": 135,
   "metadata": {},
   "outputs": [
    {
     "output_type": "stream",
     "name": "stdout",
     "text": [
      "Resize image to : (96, 200, 3)\n",
      "Found text in image : [31, 49, 23, 51] [125, 181, 31, 67]\n",
      "Ocr license_plate : 8 1549 RFS\n"
     ]
    },
    {
     "output_type": "execute_result",
     "data": {
      "text/plain": [
       "<PIL.Image.Image image mode=RGB size=200x96 at 0x7EB9CEFF28>"
      ],
      "image/png": "[encoded data removed]"
     },
     "metadata": {},
     "execution_count": 135
    }
   ],
   "source": [
    "def process_license_plate(image, image_detection, bbox):\n",
    "    if bbox:\n",
    "        # Resize if width > 120\n",
    "        image_crop = resize(image_detection.copy(), 200, 205) if image_detection.shape[1] < 120 else image_detection\n",
    "        # Detect character in text\n",
    "        detected_char = detect_char(image_crop, output=False)\n",
    "        # Get image if character not found in image\n",
    "        image_crop = resize(image_detection, 90, 100) if not detected_char else image_crop\n",
    "    else:\n",
    "        image_crop = resize(image_detection, 90, 100)\n",
    "    # Process OCR\n",
    "    result_ocr = read_text(image_crop, position_text='horizontal', clasess_name='license_plate')\n",
    "    \n",
    "    return image_crop\n",
    "\n",
    "Image.fromarray(cv2.cvtColor(process_license_plate(image, image_license_plate, bbox_license_plate), cv2.COLOR_BGR2RGB))\n"
   ]
  },
  {
   "cell_type": "code",
   "execution_count": 136,
   "metadata": {},
   "outputs": [
    {
     "output_type": "stream",
     "name": "stdout",
     "text": [
      "(48, 98, 3)\nResize image to : (96, 196, 3)\n"
     ]
    },
    {
     "output_type": "execute_result",
     "data": {
      "text/plain": [
       "<PIL.Image.Image image mode=RGB size=196x96 at 0x7EB9C7B588>"
      ],
      "image/png": "[encoded data removed]"
     },
     "metadata": {},
     "execution_count": 136
    }
   ],
   "source": [
    "print(image_license_plate.shape)\n",
    "image_crop = resize(image_license_plate, 200, 200)\n",
    "Image.fromarray(cv2.cvtColor(image_crop, cv2.COLOR_BGR2RGB))\n"
   ]
  },
  {
   "cell_type": "code",
   "execution_count": 137,
   "metadata": {},
   "outputs": [
    {
     "output_type": "stream",
     "name": "stdout",
     "text": [
      "Ocr license_plate : 8 1549 RFS\n"
     ]
    },
    {
     "output_type": "execute_result",
     "data": {
      "text/plain": [
       "[([[26, 20], [178, 20], [178, 68], [26, 68]],\n",
       "  '8 1549 RFS',\n",
       "  0.8223935276355213)]"
      ]
     },
     "metadata": {},
     "execution_count": 137
    }
   ],
   "source": [
    "read_text(image_crop)"
   ]
  },
  {
   "cell_type": "code",
   "execution_count": null,
   "metadata": {},
   "outputs": [],
   "source": []
  }
 ]
}